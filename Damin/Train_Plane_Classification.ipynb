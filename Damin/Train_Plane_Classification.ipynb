{
 "cells": [
  {
   "cell_type": "code",
   "execution_count": 7,
   "metadata": {},
   "outputs": [],
   "source": [
    "import numpy as np\n",
    "from sklearn.tree import DecisionTreeClassifier \n",
    "import pandas as pd\n",
    "from sklearn.model_selection import train_test_split\n",
    "import matplotlib.pyplot as plt\n",
    "from sklearn import metrics \n",
    "from sklearn import preprocessing\n",
    "from sklearn import tree"
   ]
  },
  {
   "cell_type": "code",
   "execution_count": 8,
   "metadata": {},
   "outputs": [
    {
     "name": "stdout",
     "output_type": "stream",
     "text": [
      "<class 'pandas.core.frame.DataFrame'>\n",
      "RangeIndex: 72 entries, 0 to 71\n",
      "Data columns (total 5 columns):\n",
      " #   Column        Non-Null Count  Dtype \n",
      "---  ------        --------------  ----- \n",
      " 0   Mode          72 non-null     object\n",
      " 1   Route         72 non-null     object\n",
      " 2   week          72 non-null     int64 \n",
      " 3   Ticket Price  72 non-null     int64 \n",
      " 4   date          72 non-null     object\n",
      "dtypes: int64(2), object(3)\n",
      "memory usage: 2.9+ KB\n"
     ]
    }
   ],
   "source": [
    "dataset=pd.read_csv(\"trains_vs_planes.csv\")\n",
    "dataset.info()"
   ]
  },
  {
   "cell_type": "code",
   "execution_count": 9,
   "metadata": {},
   "outputs": [
    {
     "data": {
      "text/html": [
       "<div>\n",
       "<style scoped>\n",
       "    .dataframe tbody tr th:only-of-type {\n",
       "        vertical-align: middle;\n",
       "    }\n",
       "\n",
       "    .dataframe tbody tr th {\n",
       "        vertical-align: top;\n",
       "    }\n",
       "\n",
       "    .dataframe thead th {\n",
       "        text-align: right;\n",
       "    }\n",
       "</style>\n",
       "<table border=\"1\" class=\"dataframe\">\n",
       "  <thead>\n",
       "    <tr style=\"text-align: right;\">\n",
       "      <th></th>\n",
       "      <th>Mode</th>\n",
       "      <th>Route</th>\n",
       "      <th>week</th>\n",
       "      <th>Ticket Price</th>\n",
       "      <th>date</th>\n",
       "    </tr>\n",
       "  </thead>\n",
       "  <tbody>\n",
       "    <tr>\n",
       "      <th>0</th>\n",
       "      <td>Plane</td>\n",
       "      <td>mumbai-delhi</td>\n",
       "      <td>1</td>\n",
       "      <td>5942</td>\n",
       "      <td>30-01-2022</td>\n",
       "    </tr>\n",
       "    <tr>\n",
       "      <th>1</th>\n",
       "      <td>Plane</td>\n",
       "      <td>mumbai-delhi</td>\n",
       "      <td>2</td>\n",
       "      <td>5942</td>\n",
       "      <td>06-02-2022</td>\n",
       "    </tr>\n",
       "    <tr>\n",
       "      <th>2</th>\n",
       "      <td>Plane</td>\n",
       "      <td>mumbai-delhi</td>\n",
       "      <td>3</td>\n",
       "      <td>2339</td>\n",
       "      <td>13-02-2022</td>\n",
       "    </tr>\n",
       "    <tr>\n",
       "      <th>3</th>\n",
       "      <td>Plane</td>\n",
       "      <td>mumbai-delhi</td>\n",
       "      <td>4</td>\n",
       "      <td>2336</td>\n",
       "      <td>20-02-2022</td>\n",
       "    </tr>\n",
       "    <tr>\n",
       "      <th>4</th>\n",
       "      <td>Plane</td>\n",
       "      <td>mumbai-delhi</td>\n",
       "      <td>5</td>\n",
       "      <td>2336</td>\n",
       "      <td>27-02-2022</td>\n",
       "    </tr>\n",
       "  </tbody>\n",
       "</table>\n",
       "</div>"
      ],
      "text/plain": [
       "    Mode         Route  week  Ticket Price       date \n",
       "0  Plane  mumbai-delhi     1          5942  30-01-2022\n",
       "1  Plane  mumbai-delhi     2          5942  06-02-2022\n",
       "2  Plane  mumbai-delhi     3          2339  13-02-2022\n",
       "3  Plane  mumbai-delhi     4          2336  20-02-2022\n",
       "4  Plane  mumbai-delhi     5          2336  27-02-2022"
      ]
     },
     "execution_count": 9,
     "metadata": {},
     "output_type": "execute_result"
    }
   ],
   "source": [
    "dataset.head()"
   ]
  },
  {
   "cell_type": "code",
   "execution_count": 10,
   "metadata": {},
   "outputs": [
    {
     "data": {
      "text/plain": [
       "Mode            0\n",
       "Route           0\n",
       "week            0\n",
       "Ticket Price    0\n",
       "date            0\n",
       "dtype: int64"
      ]
     },
     "execution_count": 10,
     "metadata": {},
     "output_type": "execute_result"
    }
   ],
   "source": [
    "#Cek data null\n",
    "dataset.isnull().sum()"
   ]
  },
  {
   "cell_type": "code",
   "execution_count": 11,
   "metadata": {},
   "outputs": [
    {
     "data": {
      "text/html": [
       "<div>\n",
       "<style scoped>\n",
       "    .dataframe tbody tr th:only-of-type {\n",
       "        vertical-align: middle;\n",
       "    }\n",
       "\n",
       "    .dataframe tbody tr th {\n",
       "        vertical-align: top;\n",
       "    }\n",
       "\n",
       "    .dataframe thead th {\n",
       "        text-align: right;\n",
       "    }\n",
       "</style>\n",
       "<table border=\"1\" class=\"dataframe\">\n",
       "  <thead>\n",
       "    <tr style=\"text-align: right;\">\n",
       "      <th></th>\n",
       "      <th>week</th>\n",
       "      <th>Ticket Price</th>\n",
       "    </tr>\n",
       "  </thead>\n",
       "  <tbody>\n",
       "    <tr>\n",
       "      <th>count</th>\n",
       "      <td>72.00000</td>\n",
       "      <td>72.000000</td>\n",
       "    </tr>\n",
       "    <tr>\n",
       "      <th>mean</th>\n",
       "      <td>3.50000</td>\n",
       "      <td>1900.861111</td>\n",
       "    </tr>\n",
       "    <tr>\n",
       "      <th>std</th>\n",
       "      <td>1.71981</td>\n",
       "      <td>1854.738403</td>\n",
       "    </tr>\n",
       "    <tr>\n",
       "      <th>min</th>\n",
       "      <td>1.00000</td>\n",
       "      <td>295.000000</td>\n",
       "    </tr>\n",
       "    <tr>\n",
       "      <th>25%</th>\n",
       "      <td>2.00000</td>\n",
       "      <td>517.500000</td>\n",
       "    </tr>\n",
       "    <tr>\n",
       "      <th>50%</th>\n",
       "      <td>3.50000</td>\n",
       "      <td>1324.000000</td>\n",
       "    </tr>\n",
       "    <tr>\n",
       "      <th>75%</th>\n",
       "      <td>5.00000</td>\n",
       "      <td>2336.000000</td>\n",
       "    </tr>\n",
       "    <tr>\n",
       "      <th>max</th>\n",
       "      <td>6.00000</td>\n",
       "      <td>7412.000000</td>\n",
       "    </tr>\n",
       "  </tbody>\n",
       "</table>\n",
       "</div>"
      ],
      "text/plain": [
       "           week  Ticket Price\n",
       "count  72.00000     72.000000\n",
       "mean    3.50000   1900.861111\n",
       "std     1.71981   1854.738403\n",
       "min     1.00000    295.000000\n",
       "25%     2.00000    517.500000\n",
       "50%     3.50000   1324.000000\n",
       "75%     5.00000   2336.000000\n",
       "max     6.00000   7412.000000"
      ]
     },
     "execution_count": 11,
     "metadata": {},
     "output_type": "execute_result"
    }
   ],
   "source": [
    "dataset.describe()"
   ]
  },
  {
   "cell_type": "code",
   "execution_count": 12,
   "metadata": {},
   "outputs": [
    {
     "data": {
      "text/html": [
       "<div>\n",
       "<style scoped>\n",
       "    .dataframe tbody tr th:only-of-type {\n",
       "        vertical-align: middle;\n",
       "    }\n",
       "\n",
       "    .dataframe tbody tr th {\n",
       "        vertical-align: top;\n",
       "    }\n",
       "\n",
       "    .dataframe thead th {\n",
       "        text-align: right;\n",
       "    }\n",
       "</style>\n",
       "<table border=\"1\" class=\"dataframe\">\n",
       "  <thead>\n",
       "    <tr style=\"text-align: right;\">\n",
       "      <th></th>\n",
       "      <th>Mode</th>\n",
       "      <th>Route</th>\n",
       "    </tr>\n",
       "  </thead>\n",
       "  <tbody>\n",
       "    <tr>\n",
       "      <th>0</th>\n",
       "      <td>Plane</td>\n",
       "      <td>mumbai-delhi</td>\n",
       "    </tr>\n",
       "    <tr>\n",
       "      <th>1</th>\n",
       "      <td>Plane</td>\n",
       "      <td>mumbai-delhi</td>\n",
       "    </tr>\n",
       "    <tr>\n",
       "      <th>2</th>\n",
       "      <td>Plane</td>\n",
       "      <td>mumbai-delhi</td>\n",
       "    </tr>\n",
       "    <tr>\n",
       "      <th>3</th>\n",
       "      <td>Plane</td>\n",
       "      <td>mumbai-delhi</td>\n",
       "    </tr>\n",
       "    <tr>\n",
       "      <th>4</th>\n",
       "      <td>Plane</td>\n",
       "      <td>mumbai-delhi</td>\n",
       "    </tr>\n",
       "  </tbody>\n",
       "</table>\n",
       "</div>"
      ],
      "text/plain": [
       "    Mode         Route\n",
       "0  Plane  mumbai-delhi\n",
       "1  Plane  mumbai-delhi\n",
       "2  Plane  mumbai-delhi\n",
       "3  Plane  mumbai-delhi\n",
       "4  Plane  mumbai-delhi"
      ]
     },
     "execution_count": 12,
     "metadata": {},
     "output_type": "execute_result"
    }
   ],
   "source": [
    "#Mengambil label X dan Y\n",
    "data_dipakai=dataset[['Mode','Route']]\n",
    "data_dipakai.head()\n"
   ]
  },
  {
   "cell_type": "markdown",
   "metadata": {},
   "source": [
    "# Encode"
   ]
  },
  {
   "cell_type": "code",
   "execution_count": 13,
   "metadata": {},
   "outputs": [
    {
     "name": "stderr",
     "output_type": "stream",
     "text": [
      "C:\\Users\\Reza\\anaconda3\\lib\\site-packages\\sklearn\\utils\\validation.py:63: DataConversionWarning: A column-vector y was passed when a 1d array was expected. Please change the shape of y to (n_samples, ), for example using ravel().\n",
      "  return f(*args, **kwargs)\n",
      "C:\\Users\\Reza\\AppData\\Local\\Temp/ipykernel_16440/2717284246.py:2: SettingWithCopyWarning: \n",
      "A value is trying to be set on a copy of a slice from a DataFrame.\n",
      "Try using .loc[row_indexer,col_indexer] = value instead\n",
      "\n",
      "See the caveats in the documentation: https://pandas.pydata.org/pandas-docs/stable/user_guide/indexing.html#returning-a-view-versus-a-copy\n",
      "  data_dipakai[\"Mode\"]=encoder.fit_transform(dataset[[\"Mode\"]])\n",
      "C:\\Users\\Reza\\AppData\\Local\\Temp/ipykernel_16440/2717284246.py:3: SettingWithCopyWarning: \n",
      "A value is trying to be set on a copy of a slice from a DataFrame.\n",
      "Try using .loc[row_indexer,col_indexer] = value instead\n",
      "\n",
      "See the caveats in the documentation: https://pandas.pydata.org/pandas-docs/stable/user_guide/indexing.html#returning-a-view-versus-a-copy\n",
      "  data_dipakai[\"Route\"]=encoder.fit_transform(dataset[[\"Route\"]])\n"
     ]
    }
   ],
   "source": [
    "encoder=preprocessing.LabelEncoder()\n",
    "data_dipakai[\"Mode\"]=encoder.fit_transform(dataset[[\"Mode\"]])\n",
    "data_dipakai[\"Route\"]=encoder.fit_transform(dataset[[\"Route\"]])\n"
   ]
  },
  {
   "cell_type": "code",
   "execution_count": 14,
   "metadata": {},
   "outputs": [
    {
     "data": {
      "text/html": [
       "<div>\n",
       "<style scoped>\n",
       "    .dataframe tbody tr th:only-of-type {\n",
       "        vertical-align: middle;\n",
       "    }\n",
       "\n",
       "    .dataframe tbody tr th {\n",
       "        vertical-align: top;\n",
       "    }\n",
       "\n",
       "    .dataframe thead th {\n",
       "        text-align: right;\n",
       "    }\n",
       "</style>\n",
       "<table border=\"1\" class=\"dataframe\">\n",
       "  <thead>\n",
       "    <tr style=\"text-align: right;\">\n",
       "      <th></th>\n",
       "      <th>Mode</th>\n",
       "      <th>Route</th>\n",
       "    </tr>\n",
       "  </thead>\n",
       "  <tbody>\n",
       "    <tr>\n",
       "      <th>0</th>\n",
       "      <td>0</td>\n",
       "      <td>3</td>\n",
       "    </tr>\n",
       "    <tr>\n",
       "      <th>1</th>\n",
       "      <td>0</td>\n",
       "      <td>3</td>\n",
       "    </tr>\n",
       "    <tr>\n",
       "      <th>2</th>\n",
       "      <td>0</td>\n",
       "      <td>3</td>\n",
       "    </tr>\n",
       "    <tr>\n",
       "      <th>3</th>\n",
       "      <td>0</td>\n",
       "      <td>3</td>\n",
       "    </tr>\n",
       "    <tr>\n",
       "      <th>4</th>\n",
       "      <td>0</td>\n",
       "      <td>3</td>\n",
       "    </tr>\n",
       "    <tr>\n",
       "      <th>5</th>\n",
       "      <td>0</td>\n",
       "      <td>3</td>\n",
       "    </tr>\n",
       "    <tr>\n",
       "      <th>6</th>\n",
       "      <td>1</td>\n",
       "      <td>3</td>\n",
       "    </tr>\n",
       "    <tr>\n",
       "      <th>7</th>\n",
       "      <td>1</td>\n",
       "      <td>3</td>\n",
       "    </tr>\n",
       "    <tr>\n",
       "      <th>8</th>\n",
       "      <td>1</td>\n",
       "      <td>3</td>\n",
       "    </tr>\n",
       "    <tr>\n",
       "      <th>9</th>\n",
       "      <td>1</td>\n",
       "      <td>3</td>\n",
       "    </tr>\n",
       "    <tr>\n",
       "      <th>10</th>\n",
       "      <td>1</td>\n",
       "      <td>3</td>\n",
       "    </tr>\n",
       "    <tr>\n",
       "      <th>11</th>\n",
       "      <td>1</td>\n",
       "      <td>3</td>\n",
       "    </tr>\n",
       "    <tr>\n",
       "      <th>12</th>\n",
       "      <td>0</td>\n",
       "      <td>1</td>\n",
       "    </tr>\n",
       "    <tr>\n",
       "      <th>13</th>\n",
       "      <td>0</td>\n",
       "      <td>1</td>\n",
       "    </tr>\n",
       "    <tr>\n",
       "      <th>14</th>\n",
       "      <td>0</td>\n",
       "      <td>1</td>\n",
       "    </tr>\n",
       "    <tr>\n",
       "      <th>15</th>\n",
       "      <td>0</td>\n",
       "      <td>1</td>\n",
       "    </tr>\n",
       "    <tr>\n",
       "      <th>16</th>\n",
       "      <td>0</td>\n",
       "      <td>1</td>\n",
       "    </tr>\n",
       "    <tr>\n",
       "      <th>17</th>\n",
       "      <td>0</td>\n",
       "      <td>1</td>\n",
       "    </tr>\n",
       "    <tr>\n",
       "      <th>18</th>\n",
       "      <td>1</td>\n",
       "      <td>1</td>\n",
       "    </tr>\n",
       "    <tr>\n",
       "      <th>19</th>\n",
       "      <td>1</td>\n",
       "      <td>1</td>\n",
       "    </tr>\n",
       "  </tbody>\n",
       "</table>\n",
       "</div>"
      ],
      "text/plain": [
       "    Mode  Route\n",
       "0      0      3\n",
       "1      0      3\n",
       "2      0      3\n",
       "3      0      3\n",
       "4      0      3\n",
       "5      0      3\n",
       "6      1      3\n",
       "7      1      3\n",
       "8      1      3\n",
       "9      1      3\n",
       "10     1      3\n",
       "11     1      3\n",
       "12     0      1\n",
       "13     0      1\n",
       "14     0      1\n",
       "15     0      1\n",
       "16     0      1\n",
       "17     0      1\n",
       "18     1      1\n",
       "19     1      1"
      ]
     },
     "execution_count": 14,
     "metadata": {},
     "output_type": "execute_result"
    }
   ],
   "source": [
    "data_dipakai.head(20)\n"
   ]
  },
  {
   "cell_type": "code",
   "execution_count": 15,
   "metadata": {},
   "outputs": [
    {
     "data": {
      "text/plain": [
       "0     5942\n",
       "1     5942\n",
       "2     2339\n",
       "3     2336\n",
       "4     2336\n",
       "5     2336\n",
       "6      610\n",
       "7      405\n",
       "8      405\n",
       "9      405\n",
       "10     405\n",
       "11     405\n",
       "12    5102\n",
       "13    5102\n",
       "14    2124\n",
       "15    2124\n",
       "16    2124\n",
       "17    2124\n",
       "18     480\n",
       "19     530\n",
       "Name: Ticket Price, dtype: int64"
      ]
     },
     "execution_count": 15,
     "metadata": {},
     "output_type": "execute_result"
    }
   ],
   "source": [
    "dataset[\"Ticket Price\"].head(20)"
   ]
  },
  {
   "cell_type": "code",
   "execution_count": 16,
   "metadata": {},
   "outputs": [],
   "source": [
    "#Memulai Model\n",
    "Lin_Model_Tree=DecisionTreeClassifier()\n",
    "dataX=data_dipakai[[\"Mode\",\"Route\"]]\n",
    "dataY=dataset[\"Ticket Price\"]\n"
   ]
  },
  {
   "cell_type": "code",
   "execution_count": 17,
   "metadata": {},
   "outputs": [],
   "source": [
    "#Split and TRain data\n",
    "dataX_train, dataX_test, dataY_train, dataY_test = train_test_split(dataX, dataY, test_size=0.2,random_state=0)"
   ]
  },
  {
   "cell_type": "code",
   "execution_count": 18,
   "metadata": {},
   "outputs": [
    {
     "data": {
      "text/plain": [
       "DecisionTreeClassifier(max_depth=3)"
      ]
     },
     "execution_count": 18,
     "metadata": {},
     "output_type": "execute_result"
    }
   ],
   "source": [
    "model_ku=DecisionTreeClassifier(max_depth=3,criterion=\"gini\")\n",
    "model_ku.fit(dataX_train,dataY_train)"
   ]
  },
  {
   "cell_type": "code",
   "execution_count": 19,
   "metadata": {},
   "outputs": [
    {
     "data": {
      "image/png": "[encoded data removed]",
      "text/plain": [
       "<Figure size 1500x900 with 1 Axes>"
      ]
     },
     "metadata": {
      "needs_background": "light"
     },
     "output_type": "display_data"
    }
   ],
   "source": [
    "plt.rcParams['figure.dpi']=100\n",
    "plt.subplots(figsize=(15,9))\n",
    "tree.plot_tree(model_ku.fit(dataX_train,dataY_train),fontsize=12) \n",
    "plt.show()"
   ]
  },
  {
   "cell_type": "markdown",
   "metadata": {},
   "source": [
    "# Searching Data use input user"
   ]
  },
  {
   "cell_type": "code",
   "execution_count": 49,
   "metadata": {},
   "outputs": [
    {
     "name": "stdout",
     "output_type": "stream",
     "text": [
      "[405]\n"
     ]
    }
   ],
   "source": [
    "masukkanMode=int(input(\"Masukkan Mode : \"))\n",
    "masukkanRute=int(input(\"Masukkan Rute : \"))\n",
    "hasil=model_ku.predict([[masukkanMode,masukkanRute]])\n",
    "print(hasil)\n",
    "\n"
   ]
  },
  {
   "cell_type": "markdown",
   "metadata": {},
   "source": [
    "# Search Predict output use .where and Input user"
   ]
  },
  {
   "cell_type": "code",
   "execution_count": 50,
   "metadata": {},
   "outputs": [
    {
     "data": {
      "text/html": [
       "<div>\n",
       "<style scoped>\n",
       "    .dataframe tbody tr th:only-of-type {\n",
       "        vertical-align: middle;\n",
       "    }\n",
       "\n",
       "    .dataframe tbody tr th {\n",
       "        vertical-align: top;\n",
       "    }\n",
       "\n",
       "    .dataframe thead th {\n",
       "        text-align: right;\n",
       "    }\n",
       "</style>\n",
       "<table border=\"1\" class=\"dataframe\">\n",
       "  <thead>\n",
       "    <tr style=\"text-align: right;\">\n",
       "      <th></th>\n",
       "      <th>Mode</th>\n",
       "      <th>Route</th>\n",
       "      <th>week</th>\n",
       "      <th>Ticket Price</th>\n",
       "      <th>date</th>\n",
       "    </tr>\n",
       "  </thead>\n",
       "  <tbody>\n",
       "    <tr>\n",
       "      <th>7</th>\n",
       "      <td>Train</td>\n",
       "      <td>mumbai-delhi</td>\n",
       "      <td>2</td>\n",
       "      <td>405.0</td>\n",
       "      <td>06-02-2022</td>\n",
       "    </tr>\n",
       "    <tr>\n",
       "      <th>8</th>\n",
       "      <td>Train</td>\n",
       "      <td>mumbai-delhi</td>\n",
       "      <td>3</td>\n",
       "      <td>405.0</td>\n",
       "      <td>13-02-2022</td>\n",
       "    </tr>\n",
       "    <tr>\n",
       "      <th>9</th>\n",
       "      <td>Train</td>\n",
       "      <td>mumbai-delhi</td>\n",
       "      <td>4</td>\n",
       "      <td>405.0</td>\n",
       "      <td>20-02-2022</td>\n",
       "    </tr>\n",
       "    <tr>\n",
       "      <th>10</th>\n",
       "      <td>Train</td>\n",
       "      <td>mumbai-delhi</td>\n",
       "      <td>5</td>\n",
       "      <td>405.0</td>\n",
       "      <td>27-02-2022</td>\n",
       "    </tr>\n",
       "    <tr>\n",
       "      <th>11</th>\n",
       "      <td>Train</td>\n",
       "      <td>mumbai-delhi</td>\n",
       "      <td>6</td>\n",
       "      <td>405.0</td>\n",
       "      <td>06-03-2022</td>\n",
       "    </tr>\n",
       "    <tr>\n",
       "      <th>...</th>\n",
       "      <td>...</td>\n",
       "      <td>...</td>\n",
       "      <td>...</td>\n",
       "      <td>...</td>\n",
       "      <td>...</td>\n",
       "    </tr>\n",
       "    <tr>\n",
       "      <th>67</th>\n",
       "      <td>Train</td>\n",
       "      <td>mumbai-kollkatta</td>\n",
       "      <td>2</td>\n",
       "      <td>NaN</td>\n",
       "      <td>06-02-2022</td>\n",
       "    </tr>\n",
       "    <tr>\n",
       "      <th>68</th>\n",
       "      <td>Train</td>\n",
       "      <td>mumbai-kollkatta</td>\n",
       "      <td>3</td>\n",
       "      <td>NaN</td>\n",
       "      <td>13-02-2022</td>\n",
       "    </tr>\n",
       "    <tr>\n",
       "      <th>69</th>\n",
       "      <td>Train</td>\n",
       "      <td>mumbai-kollkatta</td>\n",
       "      <td>4</td>\n",
       "      <td>NaN</td>\n",
       "      <td>20-02-2022</td>\n",
       "    </tr>\n",
       "    <tr>\n",
       "      <th>70</th>\n",
       "      <td>Train</td>\n",
       "      <td>mumbai-kollkatta</td>\n",
       "      <td>5</td>\n",
       "      <td>NaN</td>\n",
       "      <td>27-02-2022</td>\n",
       "    </tr>\n",
       "    <tr>\n",
       "      <th>71</th>\n",
       "      <td>Train</td>\n",
       "      <td>mumbai-kollkatta</td>\n",
       "      <td>6</td>\n",
       "      <td>NaN</td>\n",
       "      <td>06-03-2022</td>\n",
       "    </tr>\n",
       "  </tbody>\n",
       "</table>\n",
       "<p>72 rows × 5 columns</p>\n",
       "</div>"
      ],
      "text/plain": [
       "     Mode             Route  week  Ticket Price       date \n",
       "7   Train      mumbai-delhi     2         405.0  06-02-2022\n",
       "8   Train      mumbai-delhi     3         405.0  13-02-2022\n",
       "9   Train      mumbai-delhi     4         405.0  20-02-2022\n",
       "10  Train      mumbai-delhi     5         405.0  27-02-2022\n",
       "11  Train      mumbai-delhi     6         405.0  06-03-2022\n",
       "..    ...               ...   ...           ...         ...\n",
       "67  Train  mumbai-kollkatta     2           NaN  06-02-2022\n",
       "68  Train  mumbai-kollkatta     3           NaN  13-02-2022\n",
       "69  Train  mumbai-kollkatta     4           NaN  20-02-2022\n",
       "70  Train  mumbai-kollkatta     5           NaN  27-02-2022\n",
       "71  Train  mumbai-kollkatta     6           NaN  06-03-2022\n",
       "\n",
       "[72 rows x 5 columns]"
      ]
     },
     "execution_count": 50,
     "metadata": {},
     "output_type": "execute_result"
    }
   ],
   "source": [
    "dataset.sort_values(\"Ticket Price\",inplace=True)\n",
    "hasilData=(dataset[['Ticket Price']]==hasil)\n",
    "\n",
    "dataset.where(hasilData, inplace=True)\n",
    "dataset"
   ]
  }
 ],
 "metadata": {
  "interpreter": {
   "hash": "266eee74bc701e1018dd134c2effed729e1544e949035e930f53042172606107"
  },
  "kernelspec": {
   "display_name": "Python 3.8.11 ('base')",
   "language": "python",
   "name": "python3"
  },
  "language_info": {
   "codemirror_mode": {
    "name": "ipython",
    "version": 3
   },
   "file_extension": ".py",
   "mimetype": "text/x-python",
   "name": "python",
   "nbconvert_exporter": "python",
   "pygments_lexer": "ipython3",
   "version": "3.8.11"
  },
  "orig_nbformat": 4
 },
 "nbformat": 4,
 "nbformat_minor": 2
}
